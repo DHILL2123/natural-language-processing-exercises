{
 "cells": [
  {
   "cell_type": "code",
   "execution_count": 75,
   "id": "296f390a",
   "metadata": {},
   "outputs": [
    {
     "name": "stdout",
     "output_type": "stream",
     "text": [
      "[32.76639105]\n"
     ]
    }
   ],
   "source": [
    "import pandas as pd\n",
    "from sklearn.feature_extraction.text import CountVectorizer, TfidfTransformer\n",
    "from sklearn.pipeline import Pipeline\n",
    "from sklearn.linear_model import LinearRegression\n",
    "\n",
    "# Load the dataset\n",
    "df = pd.read_csv('/Users/deadrienhill/Downloads/superheroes_nlp_dataset.csv')\n",
    "\n",
    "# Define the features and target\n",
    "X = df['history_text'].astype(str)\n",
    "y = df['strength_score']\n",
    "\n",
    "# Define the pipeline\n",
    "pipeline = Pipeline([\n",
    "    ('vect', CountVectorizer()),\n",
    "    ('tfidf', TfidfTransformer()),\n",
    "    ('reg', LinearRegression())\n",
    "])\n",
    "\n",
    "# Fit the pipeline on the data\n",
    "pipeline.fit(X, y)\n",
    "\n",
    "# Test the pipeline\n",
    "test_text = 'He was one of the many prisoners of Indian Hil...'\n",
    "prediction = pipeline.predict([test_text])\n",
    "print(prediction)"
   ]
  },
  {
   "cell_type": "code",
   "execution_count": 80,
   "id": "04fa2007",
   "metadata": {},
   "outputs": [
    {
     "name": "stdout",
     "output_type": "stream",
     "text": [
      "RMSE:  29.4450898987045\n",
      "Baseline:  39.45862068965517\n"
     ]
    }
   ],
   "source": [
    "import pandas as pd\n",
    "from sklearn.model_selection import train_test_split\n",
    "from sklearn.feature_extraction.text import TfidfVectorizer\n",
    "from sklearn.linear_model import LinearRegression\n",
    "from sklearn.metrics import mean_squared_error\n",
    "from nltk.tokenize import word_tokenize\n",
    "from nltk.corpus import stopwords\n",
    "from nltk.stem import WordNetLemmatizer\n",
    "import re\n",
    "\n",
    "# Load dataset\n",
    "df = pd.read_csv('/Users/deadrienhill/Downloads/superheroes_nlp_dataset.csv')\n",
    "\n",
    "# Define baseline\n",
    "baseline = df.strength_score.mean()\n",
    "\n",
    "# Define preprocessing functions\n",
    "def basic_clean(text):\n",
    "    text = text.lower()\n",
    "    text = re.sub(r'[^\\w\\s\\']', '', text)\n",
    "    text = re.sub(r'\\s+', ' ', text)\n",
    "    text = text.strip()\n",
    "    return text\n",
    "\n",
    "def tokenize(text):\n",
    "    tokens = word_tokenize(text)\n",
    "    return tokens\n",
    "\n",
    "def remove_stopwords(tokens):\n",
    "    stopword_list = stopwords.words('english')\n",
    "    words = [word for word in tokens if word not in stopword_list]\n",
    "    return words\n",
    "\n",
    "def lemmatize(words):\n",
    "    lemmatizer = WordNetLemmatizer()\n",
    "    lemms = [lemmatizer.lemmatize(word) for word in words]\n",
    "    return lemms\n",
    "\n",
    "# Preprocess history_text\n",
    "df['processed_text'] = df['history_text'].astype(str).apply(basic_clean)\n",
    "df['tokens'] = df['processed_text'].apply(tokenize)\n",
    "df['tokens'] = df['tokens'].apply(remove_stopwords)\n",
    "df['tokens'] = df['tokens'].apply(lemmatize)\n",
    "df['processed_text'] = df['tokens'].apply(lambda x: ' '.join(x))\n",
    "\n",
    "# Split the data into training, validation, and testing sets\n",
    "train, test = train_test_split(df, test_size=0.2, random_state=123)\n",
    "train, val = train_test_split(train, test_size=0.2, random_state=123)\n",
    "\n",
    "# Vectorize the text using TF-IDF vectorization\n",
    "vectorizer = TfidfVectorizer()\n",
    "X_train = vectorizer.fit_transform(train['processed_text'])\n",
    "X_val = vectorizer.transform(val['processed_text'])\n",
    "X_test = vectorizer.transform(test['processed_text'])\n",
    "y_train = train['strength_score']\n",
    "y_val = val['strength_score']\n",
    "y_test = test['strength_score']\n",
    "\n",
    "# Train a linear regression model on the training set\n",
    "model = LinearRegression()\n",
    "model.fit(X_train, y_train)\n",
    "\n",
    "# Evaluate the model on the testing set and compare with baseline\n",
    "y_pred = model.predict(X_test)\n",
    "mse = mean_squared_error(y_test, y_pred)\n",
    "rmse = mse ** 0.5\n",
    "print(\"RMSE: \", rmse)\n",
    "print(\"Baseline: \", baseline)\n",
    "\n"
   ]
  },
  {
   "cell_type": "code",
   "execution_count": null,
   "id": "702ecf4d",
   "metadata": {},
   "outputs": [],
   "source": []
  },
  {
   "cell_type": "code",
   "execution_count": null,
   "id": "babfe9fd",
   "metadata": {},
   "outputs": [],
   "source": []
  }
 ],
 "metadata": {
  "kernelspec": {
   "display_name": "Python 3 (ipykernel)",
   "language": "python",
   "name": "python3"
  },
  "language_info": {
   "codemirror_mode": {
    "name": "ipython",
    "version": 3
   },
   "file_extension": ".py",
   "mimetype": "text/x-python",
   "name": "python",
   "nbconvert_exporter": "python",
   "pygments_lexer": "ipython3",
   "version": "3.9.13"
  }
 },
 "nbformat": 4,
 "nbformat_minor": 5
}
