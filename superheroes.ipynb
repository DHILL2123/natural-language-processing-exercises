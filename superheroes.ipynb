{
 "cells": [
  {
   "cell_type": "code",
   "execution_count": 63,
   "id": "9692ca55",
   "metadata": {},
   "outputs": [
    {
     "name": "stdout",
     "output_type": "stream",
     "text": [
      "Logistic Regression MSE:  3612.5\n",
      "Random Forest MSE:  1385.7031249999998\n",
      "Neural Network MSE:  1651.7807083077566\n"
     ]
    },
    {
     "name": "stderr",
     "output_type": "stream",
     "text": [
      "/opt/homebrew/anaconda3/lib/python3.9/site-packages/sklearn/neural_network/_multilayer_perceptron.py:702: ConvergenceWarning: Stochastic Optimizer: Maximum iterations (200) reached and the optimization hasn't converged yet.\n",
      "  warnings.warn(\n"
     ]
    }
   ],
   "source": [
    "import pandas as pd\n",
    "import numpy as np\n",
    "from sklearn.feature_extraction.text import TfidfVectorizer\n",
    "from sklearn.model_selection import train_test_split\n",
    "from sklearn.linear_model import LogisticRegression\n",
    "from sklearn.ensemble import RandomForestRegressor\n",
    "from sklearn.neural_network import MLPRegressor\n",
    "from sklearn.pipeline import Pipeline\n",
    "from sklearn.metrics import mean_squared_error\n",
    "from sklearn.model_selection import GridSearchCV\n",
    "\n",
    "# Step 1: Load the dataset into a pandas dataframe\n",
    "df = pd.read_csv('/Users/deadrienhill/Downloads/superheroes_nlp_dataset.csv')\n",
    "\n",
    "# Step 2: Data cleaning and preprocessing\n",
    "# Remove missing values\n",
    "df.dropna(inplace=True)\n",
    "\n",
    "# Convert the 'strength_score' column to float\n",
    "df['strength_score'] = df['strength_score'].astype(float)\n",
    "\n",
    "# Step 3: Split the dataset into training, validation, and testing sets\n",
    "train_df, test_df = train_test_split(df, test_size=0.2, random_state=42)\n",
    "train_df, val_df = train_test_split(train_df, test_size=0.2, random_state=42)\n",
    "\n",
    "# Step 4: Convert the text data into numerical vectors using TF-IDF vectorization\n",
    "tfidf_vectorizer = TfidfVectorizer(max_features=10000)\n",
    "X_train = tfidf_vectorizer.fit_transform(train_df['history_text'])\n",
    "y_train = train_df['strength_score'].values\n",
    "X_val = tfidf_vectorizer.transform(val_df['history_text'])\n",
    "y_val = val_df['strength_score'].values\n",
    "\n",
    "# Step 5: Train and evaluate different machine learning models\n",
    "# Logistic Regression\n",
    "lr_pipeline = Pipeline([\n",
    "    ('tfidf', tfidf_vectorizer),\n",
    "    ('lr', LogisticRegression())\n",
    "])\n",
    "lr_pipeline.fit(train_df['history_text'], train_df['strength_score'])\n",
    "lr_preds = lr_pipeline.predict(val_df['history_text'])\n",
    "lr_mse = mean_squared_error(val_df['strength_score'], lr_preds)\n",
    "print(\"Logistic Regression MSE: \", lr_mse)\n",
    "\n",
    "# Random Forest Regressor\n",
    "rf_pipeline = Pipeline([\n",
    "    ('tfidf', tfidf_vectorizer),\n",
    "    ('rf', RandomForestRegressor())\n",
    "])\n",
    "rf_pipeline.fit(train_df['history_text'], train_df['strength_score'])\n",
    "rf_preds = rf_pipeline.predict(val_df['history_text'])\n",
    "rf_mse = mean_squared_error(val_df['strength_score'], rf_preds)\n",
    "print(\"Random Forest MSE: \", rf_mse)\n",
    "\n",
    "# Neural Network\n",
    "nn_pipeline = Pipeline([\n",
    "    ('tfidf', tfidf_vectorizer),\n",
    "    ('nn', MLPRegressor())\n",
    "])\n",
    "nn_pipeline.fit(train_df['history_text'], train_df['strength_score'])\n",
    "nn_preds = nn_pipeline.predict(val_df['history_text'])\n",
    "nn_mse = mean_squared_error(val_df['strength_score'], nn_preds)\n",
    "print(\"Neural Network MSE: \", nn_mse)\n",
    "\n",
    "# Step 6: Fine-tune the best performing model using hyperparameter tuning\n",
    "# Fine-tune the Random Forest Regressor using Grid Search\n",
    "rf_params = {\n",
    "    'rf__n_estimators': [10, 50, 100],\n",
    "    'rf__max_depth': [None, 10]}\n"
   ]
  },
  {
   "cell_type": "code",
   "execution_count": null,
   "id": "833bb49e",
   "metadata": {},
   "outputs": [],
   "source": []
  },
  {
   "cell_type": "code",
   "execution_count": null,
   "id": "b3b592e7",
   "metadata": {},
   "outputs": [],
   "source": []
  },
  {
   "cell_type": "code",
   "execution_count": null,
   "id": "5c1a1814",
   "metadata": {},
   "outputs": [],
   "source": []
  }
 ],
 "metadata": {
  "kernelspec": {
   "display_name": "Python 3 (ipykernel)",
   "language": "python",
   "name": "python3"
  },
  "language_info": {
   "codemirror_mode": {
    "name": "ipython",
    "version": 3
   },
   "file_extension": ".py",
   "mimetype": "text/x-python",
   "name": "python",
   "nbconvert_exporter": "python",
   "pygments_lexer": "ipython3",
   "version": "3.9.13"
  }
 },
 "nbformat": 4,
 "nbformat_minor": 5
}
