{
 "cells": [
  {
   "cell_type": "code",
   "execution_count": 1,
   "id": "a2c31dbb",
   "metadata": {},
   "outputs": [],
   "source": [
    "import pandas as pd\n",
    "import re # part of the python stdlib"
   ]
  },
  {
   "cell_type": "markdown",
   "id": "068baff0",
   "metadata": {},
   "source": [
    "# 1. Write a function named is_vowel. It should accept a string as input and use a regular expression to determine if the passed string is a vowel. While not explicity mentioned in the lesson, you can treat the result of re.search as a boolean value that indicates whether or not the regular expression matches the given string."
   ]
  },
  {
   "cell_type": "code",
   "execution_count": 30,
   "id": "2fcbc94c",
   "metadata": {},
   "outputs": [],
   "source": [
    "def is_vowels(text):\n",
    "    regexp = r\"[aeiou]\"\n",
    "    vowels = re.findall(regexp, text)\n",
    "    return vowels"
   ]
  },
  {
   "cell_type": "code",
   "execution_count": 31,
   "id": "bb54fe56",
   "metadata": {},
   "outputs": [
    {
     "data": {
      "text/plain": [
       "['e', 'o', 'o']"
      ]
     },
     "execution_count": 31,
     "metadata": {},
     "output_type": "execute_result"
    }
   ],
   "source": [
    "is_vowels('Hello World')"
   ]
  },
  {
   "cell_type": "markdown",
   "id": "c71edbfc",
   "metadata": {},
   "source": [
    "# 2. Write a function named is_valid_username that accepts a string as input. A valid username starts with a lowercase letter, and only consists of lowercase letters, numbers, or the _ character. It should also be no longer than 32 characters. The function should return either True or False depending on whether the passed string is a valid username."
   ]
  },
  {
   "cell_type": "code",
   "execution_count": 59,
   "id": "ed6c312a",
   "metadata": {},
   "outputs": [],
   "source": [
    "def is_valid_username(username):\n",
    "    regexp = r\"^[a-z][a-z0-9_]{0,31}$\"\n",
    "    valid = re.match(regexp, username)\n",
    "    return bool(valid)"
   ]
  },
  {
   "cell_type": "code",
   "execution_count": 60,
   "id": "90511d09",
   "metadata": {},
   "outputs": [
    {
     "data": {
      "text/plain": [
       "False"
      ]
     },
     "execution_count": 60,
     "metadata": {},
     "output_type": "execute_result"
    }
   ],
   "source": [
    "is_valid_username('mike_A')"
   ]
  },
  {
   "cell_type": "markdown",
   "id": "436b7601",
   "metadata": {},
   "source": [
    "# 3. Write a regular expression to capture phone numbers. It should match all of the following:"
   ]
  },
  {
   "cell_type": "code",
   "execution_count": 86,
   "id": "89de1631",
   "metadata": {},
   "outputs": [
    {
     "name": "stdout",
     "output_type": "stream",
     "text": [
      "(210) 867 5309 or +1 210.867.5309 or 867-5309 or 210-867-5309\n"
     ]
    }
   ],
   "source": [
    "regexp = r\"(\\+?\\d{1,2}[\\s.-]?)?(\\(?\\d{3}\\)?[\\s.-]?)?\\d{3}[\\s.-]?\\d{4}\"\n",
    "phone_number = '(210) 867 5309 or +1 210.867.5309 or 867-5309 or 210-867-5309'\n",
    "re.match(regexp, phone_number)\n",
    "print(phone_number)"
   ]
  },
  {
   "cell_type": "markdown",
   "id": "1e2524c5",
   "metadata": {},
   "source": [
    "# 4. Use regular expressions to convert the dates below to the standardized year-month-day format."
   ]
  },
  {
   "cell_type": "code",
   "execution_count": 95,
   "id": "78cf42e4",
   "metadata": {},
   "outputs": [
    {
     "name": "stdout",
     "output_type": "stream",
     "text": [
      "19/02/04\n",
      "19/02/05\n",
      "19/02/06\n",
      "19/02/07\n",
      "19/02/08\n",
      "19/02/09\n",
      "19/02/10\n"
     ]
    }
   ],
   "source": [
    "dates = [\"02/04/19\", \"02/05/19\", \"02/06/19\", \"02/07/19\", \"02/08/19\", \"02/09/19\",\"02/10/19\"]\n",
    "\n",
    "for date in dates:\n",
    "    match = re.match(r\"(\\d{1,2})[-/](\\d{1,2})[-/](\\d{2})\", date)\n",
    "    if match:\n",
    "        year = match.group(3)\n",
    "        month = match.group(1).zfill(2)\n",
    "        day = match.group(2).zfill(2)\n",
    "        standardized_date = f\"{year}/{month}/{day}\"\n",
    "        print(standardized_date)\n",
    "   \n"
   ]
  },
  {
   "cell_type": "markdown",
   "id": "aa847dc7",
   "metadata": {},
   "source": [
    "# 5. Write a regex to extract the various parts of these logfile lines:"
   ]
  },
  {
   "cell_type": "code",
   "execution_count": null,
   "id": "4f2d374c",
   "metadata": {},
   "outputs": [],
   "source": []
  }
 ],
 "metadata": {
  "kernelspec": {
   "display_name": "Python 3 (ipykernel)",
   "language": "python",
   "name": "python3"
  },
  "language_info": {
   "codemirror_mode": {
    "name": "ipython",
    "version": 3
   },
   "file_extension": ".py",
   "mimetype": "text/x-python",
   "name": "python",
   "nbconvert_exporter": "python",
   "pygments_lexer": "ipython3",
   "version": "3.9.13"
  }
 },
 "nbformat": 4,
 "nbformat_minor": 5
}
